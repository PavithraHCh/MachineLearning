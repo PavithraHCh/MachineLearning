{
 "cells": [
  {
   "cell_type": "code",
   "execution_count": null,
   "id": "ec9e0412-9a29-4427-a0a1-eec4c3abf7d0",
   "metadata": {
    "tags": []
   },
   "outputs": [],
   "source": [
    "# Import required packages\n",
    "\n",
    "import numpy as np\n",
    "from sklearn.datasets import fetch_olivetti_faces\n",
    "from sklearn.model_selection import train_test_split\n",
    "from sklearn.decomposition import PCA\n",
    "from sklearn.cluster import KMeans\n",
    "from sklearn.metrics import silhouette_score\n",
    "import matplotlib.pyplot as plt"
   ]
  },
  {
   "cell_type": "markdown",
   "id": "010261e4-4801-4c37-920e-027e0cb3e768",
   "metadata": {},
   "source": [
    "# CLUSTERING USING K-MEANS ALGORITHM\n",
    "_**Develop a program to apply k-Means algorithm to cluster a set of instances on an appropriate dataset**_"
   ]
  },
  {
   "cell_type": "markdown",
   "id": "5927b074-c327-4ec6-bdf4-eef45cbe167c",
   "metadata": {},
   "source": [
    "## Retrieval & Preparation of Data"
   ]
  },
  {
   "cell_type": "markdown",
   "id": "9410042b-cb61-40f6-a557-d66c33b63aa3",
   "metadata": {},
   "source": [
    "This experiment uses Olivetti faces dataset containing face images taken between April 1992 and April 1994 at AT&T Laboratories, Cambridge. There are ten different images for each of 40 distinct faces totaling 400 images. The images were taken at different times, varying lighting conditions, facial expressions (open or closed eyes, smiling or not smiling) and facial details (glasses or no glasses).\n",
    "\n",
    "The original dataset consisted of 92 x 112, while the version available here consists of 64x64 images.\n",
    "\n",
    "The image is quantized to 256 grey levels and stored as unsigned 8-bit integers. The loader will convert these to floating point values on the interval [0, 1], which are easier to work with for many algorithms.\n",
    "\n",
    "Preview of the faces is available at https://www.cl.cam.ac.uk/research/dtg/attarchive/facesataglance.html."
   ]
  },
  {
   "cell_type": "code",
   "execution_count": null,
   "id": "69cb8896-bab6-4183-b807-9b479319d7ee",
   "metadata": {
    "tags": []
   },
   "outputs": [],
   "source": [
    "# Downloads Olivetti faces dataset\n",
    "\n",
    "# NOTE: Downloading this data for the first time will several seconds to complete\n",
    "olivetti = fetch_olivetti_faces()"
   ]
  },
  {
   "cell_type": "code",
   "execution_count": null,
   "id": "9058364f-3f16-40c9-8490-a2bee35e436f",
   "metadata": {
    "tags": []
   },
   "outputs": [],
   "source": [
    "# Checks the shape of the dataset\n",
    "print(olivetti.data.shape)"
   ]
  },
  {
   "cell_type": "code",
   "execution_count": null,
   "id": "adf4dba2-ffa0-4074-ab3f-960742896ee0",
   "metadata": {
    "tags": []
   },
   "outputs": [],
   "source": [
    "# The \"target\" for this database is an integer from 0 to 39 indicating the identity of the person pictured.\n",
    "\n",
    "print(olivetti.target)"
   ]
  },
  {
   "cell_type": "code",
   "execution_count": null,
   "id": "cbe798b4-b86d-4db9-8b6f-8b003246aff8",
   "metadata": {
    "tags": []
   },
   "outputs": [],
   "source": [
    "# Splits dataset into train and test set containing 90% and 10% instances, respectively.\n",
    "\n",
    "X_train, X_test, y_train, y_test = train_test_split(\n",
    "    olivetti.data, olivetti.target, test_size=0.10, random_state=42, stratify=olivetti.target)"
   ]
  },
  {
   "cell_type": "code",
   "execution_count": null,
   "id": "1d8d6611-20b8-47aa-afe2-7becb0191233",
   "metadata": {
    "tags": []
   },
   "outputs": [],
   "source": [
    "# Further seperates around 20% (80) of the instances from train set as validation set.\n",
    "\n",
    "X_train, X_val, y_train, y_val = train_test_split(\n",
    "    X_train, y_train, test_size=80, random_state=42, stratify=y_train)"
   ]
  },
  {
   "cell_type": "code",
   "execution_count": null,
   "id": "704af744-331c-46da-b9ae-888f92f6414e",
   "metadata": {
    "tags": []
   },
   "outputs": [],
   "source": [
    "# Prints the shape of training, validation and test dataset.\n",
    "print(\"Shape of train dataset:\", X_train.shape)\n",
    "print(\"Shape of validation dataset:\", X_val.shape)\n",
    "print(\"Shape of test dataset:\", X_test.shape)"
   ]
  },
  {
   "cell_type": "markdown",
   "id": "c37df487-319e-408b-8607-002e201fbb87",
   "metadata": {},
   "source": [
    "## Analyzing Principal Components to Reduce Dimensionality of the Datasets"
   ]
  },
  {
   "cell_type": "code",
   "execution_count": null,
   "id": "401a0f94-e816-45a3-88b7-ea32d0a0dca2",
   "metadata": {
    "tags": []
   },
   "outputs": [],
   "source": [
    "# Creates PCA instance to analyze principal components of data set such that these can explain 99% of variance of the data.\n",
    "pca = PCA(n_components=0.99)\n",
    "\n",
    "# Fits the principal component analyzer on the train set\n",
    "pca.fit(X_train)\n",
    "\n",
    "# Gets the reduced dataset for train, validation and test set\n",
    "X_train_reduced = pca.transform(X_train)\n",
    "X_val_reduced = pca.transform(X_val)\n",
    "X_val_test = pca.transform(X_test)"
   ]
  },
  {
   "cell_type": "code",
   "execution_count": null,
   "id": "149d175c-dc7a-462c-b10f-e97c0813d655",
   "metadata": {
    "tags": []
   },
   "outputs": [],
   "source": [
    "# Checks the number of principal components\n",
    "print(\"Number of principal components: \", pca.n_components_)"
   ]
  },
  {
   "cell_type": "code",
   "execution_count": null,
   "id": "18c331ec-d90e-4fdc-9906-f6f042f49f42",
   "metadata": {
    "tags": []
   },
   "outputs": [],
   "source": [
    "# Calculates required space\n",
    "\n",
    "# It is defined as ratio between the number of principal components that describes \n",
    "# the given variance and number of dimentions of the original dataset\n",
    "\n",
    "required_space = pca.n_components_ / olivetti.data.shape[1] * 100\n",
    "print(\"Required space: {0:.2f}%\".format(required_space))"
   ]
  },
  {
   "cell_type": "code",
   "execution_count": null,
   "id": "b5ef0164-61dc-4d99-8923-447dff28a5db",
   "metadata": {
    "tags": []
   },
   "outputs": [],
   "source": [
    "# Calculates compression\n",
    "\n",
    "print(\"Compression: {0:.2f}%\".format(100 - required_space))"
   ]
  },
  {
   "cell_type": "markdown",
   "id": "6218b4cf-42ed-4b88-b4b1-7d0ae2bff393",
   "metadata": {
    "tags": []
   },
   "source": [
    "## Finding Optimal Number of Clusters"
   ]
  },
  {
   "cell_type": "markdown",
   "id": "65282a51-f523-49a1-94ed-89a803174066",
   "metadata": {},
   "source": [
    "### Using Silhouette Score to Find Best Number of Clusters"
   ]
  },
  {
   "cell_type": "markdown",
   "id": "0b92e1c3-cb1e-48e0-a969-243c4cfbe501",
   "metadata": {},
   "source": [
    "One of the techniques to choose best value for the number of cluster is to use silhouette score. The following steps computes silhouette scores for different numbers of clusters to help deciding the optimal number of clusters."
   ]
  },
  {
   "cell_type": "markdown",
   "id": "2af99f19-2cfa-4d95-a4ac-cfeec10a0dda",
   "metadata": {},
   "source": [
    "**1. Models with different number of clusters are created.**"
   ]
  },
  {
   "cell_type": "code",
   "execution_count": null,
   "id": "c62ba4b0-5db8-4694-ac9e-d146e6315573",
   "metadata": {
    "tags": []
   },
   "outputs": [],
   "source": [
    "# Arbitrary range from 5 to 150 with step 5 are considered for number of clusters.\n",
    "# In this case total 30 (150 / 5) different k values are prepared.\n",
    "k_range = range(5, 155, 5)"
   ]
  },
  {
   "cell_type": "markdown",
   "id": "0226acf9-4cd2-4257-ad1f-993722a3be20",
   "metadata": {},
   "source": [
    "**2. In an iteration, all 30 models with different k value are created.**"
   ]
  },
  {
   "cell_type": "code",
   "execution_count": null,
   "id": "92d19b71-114a-49fa-87ba-e8c37cbfca77",
   "metadata": {
    "tags": []
   },
   "outputs": [],
   "source": [
    "models = []          # Models based on specific 'k' value will be stored here for later reference\n",
    "\n",
    "for k in k_range:    # Value for k will be 5, then 10, then 15, and so on till 150\n",
    "    print(\"Creating model with k = {0}...\".format(k), end=\"\")\n",
    "    k_means = KMeans(n_clusters=k, random_state=42)           # Model gets initialized\n",
    "    k_means.fit(X_train_reduced)                              # Model gets fitted on the data\n",
    "    models.append(k_means)                                    # Fitted model gets added into a list for later reference\n",
    "    print(\"Done\")"
   ]
  },
  {
   "cell_type": "markdown",
   "id": "c40cfc0f-6b16-4d5f-9eb9-2fb7b08c4dc0",
   "metadata": {},
   "source": [
    "**3. Each models' performance is analyzed.**"
   ]
  },
  {
   "cell_type": "code",
   "execution_count": null,
   "id": "af9474c4-aee2-4dde-af31-26f102b3c86b",
   "metadata": {},
   "outputs": [],
   "source": [
    "# List to store silhouette score for all models\n",
    "silhouette_scores = []\n",
    "\n",
    "# Iterates over all models and stores the models' performance (silhouette score) into a list for later reference\n",
    "for model in models:\n",
    "    silhouette_scores.append(\n",
    "        silhouette_score(X_train_reduced, model.labels_)    # Calculates silhouette score given the dataset and labels\n",
    "    )"
   ]
  },
  {
   "cell_type": "markdown",
   "id": "45395407-1961-461b-be6d-2d7e2d2ad1e4",
   "metadata": {},
   "source": [
    "**4. Plots the performance of all the models with different _k_ value.**"
   ]
  },
  {
   "cell_type": "code",
   "execution_count": null,
   "id": "5420cbaf-dc7b-47e9-a0c5-1894d75937ef",
   "metadata": {
    "tags": []
   },
   "outputs": [],
   "source": [
    "# Model with highest silhouette score is considered best model\n",
    "\n",
    "best_score_index = np.argmax(silhouette_scores)    # Stores the index of list containing the highest silhouette score\n",
    "\n",
    "best_score = silhouette_scores[best_score_index]   # Gets the highest silhousette score\n",
    "\n",
    "best_k = k_range[best_score_index]                 # Gets the k-value of the model with highest silhouette score"
   ]
  },
  {
   "cell_type": "code",
   "execution_count": null,
   "id": "35d06d9c-1ce1-42a6-93f2-71788d3f36de",
   "metadata": {
    "tags": []
   },
   "outputs": [],
   "source": [
    "# Plots the silhouette score for each model\n",
    "\n",
    "plt.figure(figsize=(8, 3))                                   # Sets figures size (in inches) accordingly\n",
    "plt.plot(k_range, silhouette_scores, \"bo-\")                  # Plots silhouette score for all models in blue line with filled circles\n",
    "plt.xlabel(\"$k$\")                                            # Prints label (in italic) for x-axis \n",
    "plt.ylabel(\"Silhouette Score\")                               # Prints label for y-axis\n",
    "plt.plot(best_k, best_score, \"rs\")  # Draws a red square     # Plots just the score for the best model in red square\n",
    "plt.grid()                                                   # Enables grid layout\n",
    "plt.title(\"Models with $k$ Clusters vs. Silhouette Score\")   # Prints the title of the plot\n",
    "plt.show()                                                   # Renders the plot"
   ]
  },
  {
   "cell_type": "code",
   "execution_count": null,
   "id": "78c828bc-5536-4d6e-a1c5-787cb22beac8",
   "metadata": {
    "tags": []
   },
   "outputs": [],
   "source": [
    "# Prints the best number of cluster.\n",
    "print(\"Best Number of Cluster:\", best_k)"
   ]
  },
  {
   "cell_type": "markdown",
   "id": "cfa9df58-3a03-4d7a-b43f-65b248730784",
   "metadata": {},
   "source": [
    "The number of clusters is quite high as against intuition that to be around 40 considering the later one being the number of people that the dataset has the pictures of."
   ]
  },
  {
   "cell_type": "markdown",
   "id": "4f99c42b-8e36-45ab-b1a8-49941b17c942",
   "metadata": {},
   "source": [
    "### Analyzing Inertia over Different Number of Clusters"
   ]
  },
  {
   "cell_type": "code",
   "execution_count": null,
   "id": "7db56844-c5ed-4324-9863-a8bff27fcfa9",
   "metadata": {
    "tags": []
   },
   "outputs": [],
   "source": [
    "# Stores inertia for each model [inertia gets computed by the model itself]\n",
    "inertias = [model.inertia_ for model in models]\n",
    "\n",
    "# Stores inertia of the model having the highest silhouette score\n",
    "best_model_inertia = inertias[best_score_index]"
   ]
  },
  {
   "cell_type": "code",
   "execution_count": null,
   "id": "d1bd312c-2b7d-4e33-a242-74572d7735b7",
   "metadata": {
    "tags": []
   },
   "outputs": [],
   "source": [
    "# Plots inertia for all models\n",
    "\n",
    "plt.figure(figsize=(8, 3))                          # Sets figures size (in inches) accordingly\n",
    "plt.plot(k_range, inertias, \"bo-\")                  # Plots inertia for all models in blue line with filled circles\n",
    "plt.xlabel(\"$k$\")                                   # Prints label (in italic) for x-axis \n",
    "plt.ylabel(\"Intertia\")                              # Prints label for y-axis\n",
    "plt.plot(best_k, best_model_inertia, \"rs\")          # Plots just the inertia for the best model in red square\n",
    "plt.title(\"Models with $k$ Clusters vs. Intertia\")  # Prints the title of the plot\n",
    "plt.grid()                                          # Enables grid layout\n",
    "plt.show()                                          # Renders the plot"
   ]
  },
  {
   "cell_type": "code",
   "execution_count": null,
   "id": "dd0577d5-eb75-40eb-af5f-14dd6d1161d0",
   "metadata": {
    "tags": []
   },
   "outputs": [],
   "source": [
    "# As there is not clear elbow visible in the above diagram, best model is considered\n",
    "# the one with the best number of clusters found.\n",
    "best_model = models[best_score_index]"
   ]
  },
  {
   "cell_type": "markdown",
   "id": "101177c6-21b7-4288-b3f3-9409dad09bfb",
   "metadata": {},
   "source": [
    "## Visualizing the Clusters"
   ]
  },
  {
   "cell_type": "code",
   "execution_count": null,
   "id": "8e1593b3-691d-4fbd-b15a-39f6e8f338b1",
   "metadata": {
    "tags": []
   },
   "outputs": [],
   "source": [
    "def plot_faces(faces, labels, n_cols=10):\n",
    "    \"\"\"\n",
    "    Helper function to plot the faces.\n",
    "    \n",
    "    Parameters\n",
    "    ----------\n",
    "    faces : 2-D array-like\n",
    "        One or more faces across rows where each row represents a face\n",
    "        \n",
    "    labels : 1d array-like\n",
    "        Ground truth (correct) labels.\n",
    "        \n",
    "    n_cols : int, default=10\n",
    "        Numer of columns to be used to plot faces. It is maxium number of faces to be plotted in a row.\n",
    "    \"\"\"\n",
    "    \n",
    "    faces = faces.reshape(-1, 64, 64)  # Reshapes from one to two dimensions to make image plotting easy\n",
    "    \n",
    "    # Calculates number of rows requires to print all faces in cluster when maximum number of columns is n_cols\n",
    "    n_rows = (len(faces) - 1) // n_cols + 1  \n",
    "    \n",
    "    plt.figure(figsize=(n_cols, n_rows))   # Configures the figure size as required\n",
    "    \n",
    "    # Iterates over all faces with labels\n",
    "    for index, (face, label) in enumerate(zip(faces, labels)):\n",
    "        # References subplots in a figure and selects a subplot indicates by 3rd parameter (1-based index)\n",
    "        plt.subplot(n_rows, n_cols, index+1)\n",
    "        \n",
    "        plt.imshow(face, cmap=\"gray\")  # Shows the face in the plot selected in the previous step        \n",
    "        plt.axis(\"off\")                # Axes are made off for asthetics\n",
    "        plt.title(label)               # Writes face's origial label as title of the selected plot\n",
    "        \n",
    "    plt.show()"
   ]
  },
  {
   "cell_type": "code",
   "execution_count": null,
   "id": "2037e2b7-99d1-4c82-a40f-c105c0d1cd1a",
   "metadata": {
    "tags": []
   },
   "outputs": [],
   "source": [
    "# Iterates over all the clusters the best model found; Cluster ID is 0-based index.\n",
    "for cluster_id in np.unique(best_model.labels_):\n",
    "    print(\"Cluster\", cluster_id)   # Prints ID the cluster before showing all faces in it\n",
    "    \n",
    "    # Stores indexes of the instances in the current cluster (i.e. indexes of all faces in cluster 0)\n",
    "    # It is an list with size equal to all the faces the model has clustered\n",
    "    # It contains either True or False \n",
    "    indexes = best_model.labels_ == cluster_id\n",
    "    \n",
    "    # Extracts the faces only for a specific cluster mentioned by cluster_id\n",
    "    faces = X_train[indexes]    # X_train instead of X_train_reduced being used show original face\n",
    "    labels = y_train[indexes]   # Stores the original labels just to be used in visualization\n",
    "    \n",
    "    # Plots the faces for a specific cluster\n",
    "    plot_faces(faces, labels)"
   ]
  },
  {
   "cell_type": "markdown",
   "id": "186a1413-d320-4430-b882-73e4718d39dc",
   "metadata": {},
   "source": [
    "**Observations:**\n",
    "1. Centroid-based algorithm k-Means was used for clustering for the given dataset.\n",
    "2. Instead of using all the original dimensions given in the dataset, dimensionality reduction was applied using algorithm PCA to extract principal components that can explain 99% of the variance of the dataset.\n",
    "3. As the dataset comes with targets, the best number of clusters is already known and it is equal to the number of the persons having their images in the dataset. While finding optimal number of clusters with just the (reduced) features in unsupervised learning setting, the number came out to be 130.\n",
    "4. This number is on the higher side as compared to our intuition for the optimal number of clusters to be equal to the number of people the dataset is having images for.\n",
    "5. Silhouette score was used as a metric to find the best number of clusters. In this approach, a number of models with different k-value (indicating number of clusters) were created and silhouette score for each of these were recorded for analysis. Silhouette score was highest when number of clusters was 130.\n",
    "6. Inertia of all the models were also analyzed and no prominent elbow was observed while plotting inertia against each model with increasing k-value leaving no option to consider any other k-value other than the found one.\n",
    "7. At the end, all images across all found clusters were plotted with their actual labels and it was noticed that\n",
    "    - except for the few, mostly clusters contain images of the same person, and\n",
    "    - number of faces in a clusters varies\n",
    "8. Just clustering the images this way may not be useful directly, but it could save a lot of time when labeling images from just a few labeled images in an semi-supervised learning setting. "
   ]
  },
  {
   "cell_type": "code",
   "execution_count": null,
   "id": "4f827cdd-089c-4ed2-8563-2700905ad776",
   "metadata": {},
   "outputs": [],
   "source": []
  }
 ],
 "metadata": {
  "kernelspec": {
   "display_name": "Python 3 (ipykernel)",
   "language": "python",
   "name": "python3"
  },
  "language_info": {
   "codemirror_mode": {
    "name": "ipython",
    "version": 3
   },
   "file_extension": ".py",
   "mimetype": "text/x-python",
   "name": "python",
   "nbconvert_exporter": "python",
   "pygments_lexer": "ipython3",
   "version": "3.11.7"
  }
 },
 "nbformat": 4,
 "nbformat_minor": 5
}
