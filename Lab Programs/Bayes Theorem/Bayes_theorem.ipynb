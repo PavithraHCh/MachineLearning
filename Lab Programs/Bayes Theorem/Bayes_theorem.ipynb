{
 "cells": [
  {
   "cell_type": "code",
   "execution_count": 2,
   "id": "8fba1530-d812-4124-bdec-3139c5b00d3c",
   "metadata": {},
   "outputs": [
    {
     "data": {
      "text/plain": [
       "(0.462962962962963, 0.31481481481481477, 0.22222222222222224)"
      ]
     },
     "execution_count": 2,
     "metadata": {},
     "output_type": "execute_result"
    }
   ],
   "source": [
    "# Given probabilities\n",
    "P_IT = 0.75\n",
    "P_CSE = 0.85\n",
    "P_AIML = 0.90\n",
    "\n",
    "P_SL_IT = 0.05\n",
    "P_SL_CSE = 0.03\n",
    "P_SL_AIML = 0.02\n",
    "\n",
    "# Calculate P(SL) using the law of total probability\n",
    "P_SL = (P_SL_IT * P_IT) + (P_SL_CSE * P_CSE) + (P_SL_AIML * P_AIML)\n",
    "\n",
    "# Calculate P(IT|SL), P(CSE|SL), and P(AIML|SL) using Bayes' Theorem\n",
    "P_IT_SL = (P_SL_IT * P_IT) / P_SL\n",
    "P_CSE_SL = (P_SL_CSE * P_CSE) / P_SL\n",
    "P_AIML_SL = (P_SL_AIML * P_AIML) / P_SL\n",
    "\n",
    "P_IT_SL, P_CSE_SL, P_AIML_SL\n"
   ]
  },
  {
   "cell_type": "code",
   "execution_count": null,
   "id": "e58e553b-b0ec-4a79-9b19-9bf3927921ed",
   "metadata": {},
   "outputs": [],
   "source": []
  }
 ],
 "metadata": {
  "kernelspec": {
   "display_name": "Python 3 (ipykernel)",
   "language": "python",
   "name": "python3"
  },
  "language_info": {
   "codemirror_mode": {
    "name": "ipython",
    "version": 3
   },
   "file_extension": ".py",
   "mimetype": "text/x-python",
   "name": "python",
   "nbconvert_exporter": "python",
   "pygments_lexer": "ipython3",
   "version": "3.11.7"
  }
 },
 "nbformat": 4,
 "nbformat_minor": 5
}
