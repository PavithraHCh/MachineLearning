{
 "cells": [
  {
   "cell_type": "code",
   "execution_count": 1,
   "id": "b4c4a538",
   "metadata": {},
   "outputs": [],
   "source": [
    "import numpy as np\n",
    "import pandas as pd\n",
    "import matplotlib.pyplot as plt\n",
    "import seaborn as sns\n",
    "import sklearn.linear_model"
   ]
  },
  {
   "cell_type": "code",
   "execution_count": 2,
   "id": "046cd7ed",
   "metadata": {},
   "outputs": [
    {
     "data": {
      "text/html": [
       "<div>\n",
       "<style scoped>\n",
       "    .dataframe tbody tr th:only-of-type {\n",
       "        vertical-align: middle;\n",
       "    }\n",
       "\n",
       "    .dataframe tbody tr th {\n",
       "        vertical-align: top;\n",
       "    }\n",
       "\n",
       "    .dataframe thead th {\n",
       "        text-align: right;\n",
       "    }\n",
       "</style>\n",
       "<table border=\"1\" class=\"dataframe\">\n",
       "  <thead>\n",
       "    <tr style=\"text-align: right;\">\n",
       "      <th></th>\n",
       "      <th>Country</th>\n",
       "      <th>Subject Descriptor</th>\n",
       "      <th>Units</th>\n",
       "      <th>Scale</th>\n",
       "      <th>Country/Series-specific Notes</th>\n",
       "      <th>2015</th>\n",
       "      <th>Estimates Start After</th>\n",
       "    </tr>\n",
       "  </thead>\n",
       "  <tbody>\n",
       "    <tr>\n",
       "      <th>0</th>\n",
       "      <td>Afghanistan</td>\n",
       "      <td>Gross domestic product per capita, current prices</td>\n",
       "      <td>U.S. dollars</td>\n",
       "      <td>Units</td>\n",
       "      <td>See notes for:  Gross domestic product, curren...</td>\n",
       "      <td>599.994</td>\n",
       "      <td>2013.0</td>\n",
       "    </tr>\n",
       "    <tr>\n",
       "      <th>1</th>\n",
       "      <td>Albania</td>\n",
       "      <td>Gross domestic product per capita, current prices</td>\n",
       "      <td>U.S. dollars</td>\n",
       "      <td>Units</td>\n",
       "      <td>See notes for:  Gross domestic product, curren...</td>\n",
       "      <td>3995.383</td>\n",
       "      <td>2010.0</td>\n",
       "    </tr>\n",
       "    <tr>\n",
       "      <th>2</th>\n",
       "      <td>Algeria</td>\n",
       "      <td>Gross domestic product per capita, current prices</td>\n",
       "      <td>U.S. dollars</td>\n",
       "      <td>Units</td>\n",
       "      <td>See notes for:  Gross domestic product, curren...</td>\n",
       "      <td>4318.135</td>\n",
       "      <td>2014.0</td>\n",
       "    </tr>\n",
       "    <tr>\n",
       "      <th>3</th>\n",
       "      <td>Angola</td>\n",
       "      <td>Gross domestic product per capita, current prices</td>\n",
       "      <td>U.S. dollars</td>\n",
       "      <td>Units</td>\n",
       "      <td>See notes for:  Gross domestic product, curren...</td>\n",
       "      <td>4100.315</td>\n",
       "      <td>2014.0</td>\n",
       "    </tr>\n",
       "    <tr>\n",
       "      <th>4</th>\n",
       "      <td>Antigua and Barbuda</td>\n",
       "      <td>Gross domestic product per capita, current prices</td>\n",
       "      <td>U.S. dollars</td>\n",
       "      <td>Units</td>\n",
       "      <td>See notes for:  Gross domestic product, curren...</td>\n",
       "      <td>14414.302</td>\n",
       "      <td>2011.0</td>\n",
       "    </tr>\n",
       "  </tbody>\n",
       "</table>\n",
       "</div>"
      ],
      "text/plain": [
       "               Country                                 Subject Descriptor  \\\n",
       "0          Afghanistan  Gross domestic product per capita, current prices   \n",
       "1              Albania  Gross domestic product per capita, current prices   \n",
       "2              Algeria  Gross domestic product per capita, current prices   \n",
       "3               Angola  Gross domestic product per capita, current prices   \n",
       "4  Antigua and Barbuda  Gross domestic product per capita, current prices   \n",
       "\n",
       "          Units  Scale                      Country/Series-specific Notes  \\\n",
       "0  U.S. dollars  Units  See notes for:  Gross domestic product, curren...   \n",
       "1  U.S. dollars  Units  See notes for:  Gross domestic product, curren...   \n",
       "2  U.S. dollars  Units  See notes for:  Gross domestic product, curren...   \n",
       "3  U.S. dollars  Units  See notes for:  Gross domestic product, curren...   \n",
       "4  U.S. dollars  Units  See notes for:  Gross domestic product, curren...   \n",
       "\n",
       "        2015  Estimates Start After  \n",
       "0    599.994                 2013.0  \n",
       "1   3995.383                 2010.0  \n",
       "2   4318.135                 2014.0  \n",
       "3   4100.315                 2014.0  \n",
       "4  14414.302                 2011.0  "
      ]
     },
     "execution_count": 2,
     "metadata": {},
     "output_type": "execute_result"
    }
   ],
   "source": [
    "# get data & import it as a dataframe\n",
    "gdp = pd.read_csv(\"gdp_per_capita.csv\",sep='\\t', encoding='latin1', thousands=',', na_values='n/a').dropna()\n",
    "gdp.head()"
   ]
  },
  {
   "cell_type": "code",
   "execution_count": 3,
   "id": "d3b355af",
   "metadata": {},
   "outputs": [
    {
     "data": {
      "text/html": [
       "<div>\n",
       "<style scoped>\n",
       "    .dataframe tbody tr th:only-of-type {\n",
       "        vertical-align: middle;\n",
       "    }\n",
       "\n",
       "    .dataframe tbody tr th {\n",
       "        vertical-align: top;\n",
       "    }\n",
       "\n",
       "    .dataframe thead th {\n",
       "        text-align: right;\n",
       "    }\n",
       "</style>\n",
       "<table border=\"1\" class=\"dataframe\">\n",
       "  <thead>\n",
       "    <tr style=\"text-align: right;\">\n",
       "      <th></th>\n",
       "      <th>Country</th>\n",
       "      <th>Indicator</th>\n",
       "      <th>Measure</th>\n",
       "      <th>Inequality</th>\n",
       "      <th>Unit</th>\n",
       "      <th>PowerCode</th>\n",
       "      <th>Value</th>\n",
       "    </tr>\n",
       "  </thead>\n",
       "  <tbody>\n",
       "    <tr>\n",
       "      <th>0</th>\n",
       "      <td>Australia</td>\n",
       "      <td>Labour market insecurity</td>\n",
       "      <td>Value</td>\n",
       "      <td>Total</td>\n",
       "      <td>Percentage</td>\n",
       "      <td>Units</td>\n",
       "      <td>5.4</td>\n",
       "    </tr>\n",
       "    <tr>\n",
       "      <th>1</th>\n",
       "      <td>Austria</td>\n",
       "      <td>Labour market insecurity</td>\n",
       "      <td>Value</td>\n",
       "      <td>Total</td>\n",
       "      <td>Percentage</td>\n",
       "      <td>Units</td>\n",
       "      <td>3.5</td>\n",
       "    </tr>\n",
       "    <tr>\n",
       "      <th>2</th>\n",
       "      <td>Belgium</td>\n",
       "      <td>Labour market insecurity</td>\n",
       "      <td>Value</td>\n",
       "      <td>Total</td>\n",
       "      <td>Percentage</td>\n",
       "      <td>Units</td>\n",
       "      <td>3.7</td>\n",
       "    </tr>\n",
       "    <tr>\n",
       "      <th>3</th>\n",
       "      <td>Canada</td>\n",
       "      <td>Labour market insecurity</td>\n",
       "      <td>Value</td>\n",
       "      <td>Total</td>\n",
       "      <td>Percentage</td>\n",
       "      <td>Units</td>\n",
       "      <td>6.0</td>\n",
       "    </tr>\n",
       "    <tr>\n",
       "      <th>4</th>\n",
       "      <td>Czech Republic</td>\n",
       "      <td>Labour market insecurity</td>\n",
       "      <td>Value</td>\n",
       "      <td>Total</td>\n",
       "      <td>Percentage</td>\n",
       "      <td>Units</td>\n",
       "      <td>3.1</td>\n",
       "    </tr>\n",
       "  </tbody>\n",
       "</table>\n",
       "</div>"
      ],
      "text/plain": [
       "          Country                 Indicator Measure Inequality        Unit  \\\n",
       "0       Australia  Labour market insecurity   Value      Total  Percentage   \n",
       "1         Austria  Labour market insecurity   Value      Total  Percentage   \n",
       "2         Belgium  Labour market insecurity   Value      Total  Percentage   \n",
       "3          Canada  Labour market insecurity   Value      Total  Percentage   \n",
       "4  Czech Republic  Labour market insecurity   Value      Total  Percentage   \n",
       "\n",
       "  PowerCode  Value  \n",
       "0     Units    5.4  \n",
       "1     Units    3.5  \n",
       "2     Units    3.7  \n",
       "3     Units    6.0  \n",
       "4     Units    3.1  "
      ]
     },
     "execution_count": 3,
     "metadata": {},
     "output_type": "execute_result"
    }
   ],
   "source": [
    "# get oecd data & import it as a dataframe\n",
    "oecd = pd.read_csv(\"oecd.csv\", thousands=',')[['Country', 'Indicator', 'Measure', 'Inequality', 'Unit', 'PowerCode', 'Value']]\n",
    "oecd.head()"
   ]
  },
  {
   "cell_type": "code",
   "execution_count": 4,
   "id": "1fa46efe",
   "metadata": {},
   "outputs": [
    {
     "data": {
      "text/html": [
       "<div>\n",
       "<style scoped>\n",
       "    .dataframe tbody tr th:only-of-type {\n",
       "        vertical-align: middle;\n",
       "    }\n",
       "\n",
       "    .dataframe tbody tr th {\n",
       "        vertical-align: top;\n",
       "    }\n",
       "\n",
       "    .dataframe thead th {\n",
       "        text-align: right;\n",
       "    }\n",
       "</style>\n",
       "<table border=\"1\" class=\"dataframe\">\n",
       "  <thead>\n",
       "    <tr style=\"text-align: right;\">\n",
       "      <th></th>\n",
       "      <th>Country</th>\n",
       "      <th>Life satisfaction</th>\n",
       "    </tr>\n",
       "  </thead>\n",
       "  <tbody>\n",
       "    <tr>\n",
       "      <th>1812</th>\n",
       "      <td>Australia</td>\n",
       "      <td>7.3</td>\n",
       "    </tr>\n",
       "    <tr>\n",
       "      <th>1813</th>\n",
       "      <td>Austria</td>\n",
       "      <td>7.1</td>\n",
       "    </tr>\n",
       "    <tr>\n",
       "      <th>1814</th>\n",
       "      <td>Belgium</td>\n",
       "      <td>6.9</td>\n",
       "    </tr>\n",
       "    <tr>\n",
       "      <th>1815</th>\n",
       "      <td>Canada</td>\n",
       "      <td>7.4</td>\n",
       "    </tr>\n",
       "    <tr>\n",
       "      <th>1816</th>\n",
       "      <td>Czech Republic</td>\n",
       "      <td>6.7</td>\n",
       "    </tr>\n",
       "  </tbody>\n",
       "</table>\n",
       "</div>"
      ],
      "text/plain": [
       "             Country  Life satisfaction\n",
       "1812       Australia                7.3\n",
       "1813         Austria                7.1\n",
       "1814         Belgium                6.9\n",
       "1815          Canada                7.4\n",
       "1816  Czech Republic                6.7"
      ]
     },
     "execution_count": 4,
     "metadata": {},
     "output_type": "execute_result"
    }
   ],
   "source": [
    "# Get countries + Life satisfaction\n",
    "oecd = oecd[['Country', 'Value']][oecd['Indicator'] == 'Life satisfaction']\n",
    "oecd = oecd.rename(columns={'Value': 'Life satisfaction'})\n",
    "oecd.head()"
   ]
  },
  {
   "cell_type": "code",
   "execution_count": 6,
   "id": "43d44f7d",
   "metadata": {},
   "outputs": [
    {
     "data": {
      "text/html": [
       "<div>\n",
       "<style scoped>\n",
       "    .dataframe tbody tr th:only-of-type {\n",
       "        vertical-align: middle;\n",
       "    }\n",
       "\n",
       "    .dataframe tbody tr th {\n",
       "        vertical-align: top;\n",
       "    }\n",
       "\n",
       "    .dataframe thead th {\n",
       "        text-align: right;\n",
       "    }\n",
       "</style>\n",
       "<table border=\"1\" class=\"dataframe\">\n",
       "  <thead>\n",
       "    <tr style=\"text-align: right;\">\n",
       "      <th></th>\n",
       "      <th>Country</th>\n",
       "      <th>GDP per capita (USD)</th>\n",
       "    </tr>\n",
       "  </thead>\n",
       "  <tbody>\n",
       "    <tr>\n",
       "      <th>0</th>\n",
       "      <td>Afghanistan</td>\n",
       "      <td>599.994</td>\n",
       "    </tr>\n",
       "    <tr>\n",
       "      <th>1</th>\n",
       "      <td>Albania</td>\n",
       "      <td>3995.383</td>\n",
       "    </tr>\n",
       "    <tr>\n",
       "      <th>2</th>\n",
       "      <td>Algeria</td>\n",
       "      <td>4318.135</td>\n",
       "    </tr>\n",
       "    <tr>\n",
       "      <th>3</th>\n",
       "      <td>Angola</td>\n",
       "      <td>4100.315</td>\n",
       "    </tr>\n",
       "    <tr>\n",
       "      <th>4</th>\n",
       "      <td>Antigua and Barbuda</td>\n",
       "      <td>14414.302</td>\n",
       "    </tr>\n",
       "  </tbody>\n",
       "</table>\n",
       "</div>"
      ],
      "text/plain": [
       "               Country  GDP per capita (USD)\n",
       "0          Afghanistan               599.994\n",
       "1              Albania              3995.383\n",
       "2              Algeria              4318.135\n",
       "3               Angola              4100.315\n",
       "4  Antigua and Barbuda             14414.302"
      ]
     },
     "execution_count": 6,
     "metadata": {},
     "output_type": "execute_result"
    }
   ],
   "source": [
    "# Get countries + GDP\n",
    "gdp = gdp[['Country', '2015']]\n",
    "gdp = gdp.rename(columns={'2015': 'GDP per capita (USD)'})\n",
    "# filter to get a similar dataframe to the book's\n",
    "gdp = gdp[gdp['GDP per capita (USD)'] <= 60000]\n",
    "gdp.head()"
   ]
  },
  {
   "cell_type": "code",
   "execution_count": 7,
   "id": "5a98cba3",
   "metadata": {},
   "outputs": [
    {
     "data": {
      "text/html": [
       "<div>\n",
       "<style scoped>\n",
       "    .dataframe tbody tr th:only-of-type {\n",
       "        vertical-align: middle;\n",
       "    }\n",
       "\n",
       "    .dataframe tbody tr th {\n",
       "        vertical-align: top;\n",
       "    }\n",
       "\n",
       "    .dataframe thead th {\n",
       "        text-align: right;\n",
       "    }\n",
       "</style>\n",
       "<table border=\"1\" class=\"dataframe\">\n",
       "  <thead>\n",
       "    <tr style=\"text-align: right;\">\n",
       "      <th></th>\n",
       "      <th>Country</th>\n",
       "      <th>GDP per capita (USD)</th>\n",
       "      <th>Life satisfaction</th>\n",
       "    </tr>\n",
       "  </thead>\n",
       "  <tbody>\n",
       "    <tr>\n",
       "      <th>0</th>\n",
       "      <td>Australia</td>\n",
       "      <td>50961.865</td>\n",
       "      <td>7.350</td>\n",
       "    </tr>\n",
       "    <tr>\n",
       "      <th>1</th>\n",
       "      <td>Austria</td>\n",
       "      <td>43724.031</td>\n",
       "      <td>7.225</td>\n",
       "    </tr>\n",
       "    <tr>\n",
       "      <th>2</th>\n",
       "      <td>Belgium</td>\n",
       "      <td>40106.632</td>\n",
       "      <td>7.000</td>\n",
       "    </tr>\n",
       "    <tr>\n",
       "      <th>3</th>\n",
       "      <td>Brazil</td>\n",
       "      <td>8669.998</td>\n",
       "      <td>6.400</td>\n",
       "    </tr>\n",
       "    <tr>\n",
       "      <th>4</th>\n",
       "      <td>Canada</td>\n",
       "      <td>43331.961</td>\n",
       "      <td>7.425</td>\n",
       "    </tr>\n",
       "  </tbody>\n",
       "</table>\n",
       "</div>"
      ],
      "text/plain": [
       "     Country  GDP per capita (USD)  Life satisfaction\n",
       "0  Australia             50961.865              7.350\n",
       "1    Austria             43724.031              7.225\n",
       "2    Belgium             40106.632              7.000\n",
       "3     Brazil              8669.998              6.400\n",
       "4     Canada             43331.961              7.425"
      ]
     },
     "execution_count": 7,
     "metadata": {},
     "output_type": "execute_result"
    }
   ],
   "source": [
    "# Join GDP & Life satisfaction tables + Group by country as the unique column and average-aggregate GDP & Life satisfaction\n",
    "country_stats = pd.merge(gdp, oecd, on='Country').groupby(['Country']).mean().reset_index()\n",
    "country_stats.head()"
   ]
  },
  {
   "cell_type": "code",
   "execution_count": 8,
   "id": "f61e92be",
   "metadata": {},
   "outputs": [
    {
     "data": {
      "text/plain": [
       "((37, 1), (37, 1))"
      ]
     },
     "execution_count": 8,
     "metadata": {},
     "output_type": "execute_result"
    }
   ],
   "source": [
    "# get GDP for the x-axis and Life Satisfaction for the y-axis\n",
    "X = country_stats['GDP per capita (USD)'].values.reshape(-1, 1)\n",
    "y = country_stats['Life satisfaction'].values.reshape(-1, 1)\n",
    "X.shape, y.shape"
   ]
  },
  {
   "cell_type": "code",
   "execution_count": 9,
   "id": "5d56990c",
   "metadata": {},
   "outputs": [
    {
     "data": {
      "image/png": "[encoded data removed]",
      "text/plain": [
       "<Figure size 432x288 with 1 Axes>"
      ]
     },
     "metadata": {
      "needs_background": "light"
     },
     "output_type": "display_data"
    }
   ],
   "source": [
    "# Visualize Data\n",
    "country_stats.plot(kind='scatter', x='GDP per capita (USD)', y='Life satisfaction', xlim=(0, 60000), ylim=(0,10))\n",
    "plt.show()"
   ]
  },
  {
   "cell_type": "code",
   "execution_count": 10,
   "id": "f41d1a69",
   "metadata": {},
   "outputs": [],
   "source": [
    "# Select a Linear Model\n",
    "model = sklearn.linear_model.LinearRegression()"
   ]
  },
  {
   "cell_type": "code",
   "execution_count": 11,
   "id": "fb473c87",
   "metadata": {},
   "outputs": [
    {
     "data": {
      "text/plain": [
       "LinearRegression()"
      ]
     },
     "execution_count": 11,
     "metadata": {},
     "output_type": "execute_result"
    }
   ],
   "source": [
    "# Train the Model\n",
    "model.fit(X, y,)"
   ]
  },
  {
   "cell_type": "code",
   "execution_count": 12,
   "id": "d13ce5d0",
   "metadata": {},
   "outputs": [
    {
     "name": "stdout",
     "output_type": "stream",
     "text": [
      "[[6.2910907]]\n"
     ]
    }
   ],
   "source": [
    "# Make a prediction for Cyprus\n",
    "X_new = [[22587]]  # Cyprus GDP per capita\n",
    "print(model.predict(X_new))"
   ]
  },
  {
   "cell_type": "code",
   "execution_count": 13,
   "id": "f6afa44d",
   "metadata": {},
   "outputs": [],
   "source": [
    "# let's visualize our model, because it's a linear one, we can plot it using two points\n",
    "X = [[10000], [50000]]\n",
    "y_hat = model.predict(X)"
   ]
  },
  {
   "cell_type": "code",
   "execution_count": 14,
   "id": "c2451bb0",
   "metadata": {},
   "outputs": [
    {
     "data": {
      "image/png": "[encoded data removed]",
      "text/plain": [
       "<Figure size 432x288 with 1 Axes>"
      ]
     },
     "metadata": {
      "needs_background": "light"
     },
     "output_type": "display_data"
    }
   ],
   "source": [
    "# Visualize Data\n",
    "country_stats.plot(kind='scatter', x='GDP per capita (USD)', y='Life satisfaction', xlim=(0, 60000), ylim=(0,10))\n",
    "plt.plot(X, y_hat, c='red')\n",
    "plt.show()"
   ]
  },
  {
   "cell_type": "code",
   "execution_count": null,
   "id": "4354b18f",
   "metadata": {},
   "outputs": [],
   "source": []
  }
 ],
 "metadata": {
  "kernelspec": {
   "display_name": "Python 3 (ipykernel)",
   "language": "python",
   "name": "python3"
  },
  "language_info": {
   "codemirror_mode": {
    "name": "ipython",
    "version": 3
   },
   "file_extension": ".py",
   "mimetype": "text/x-python",
   "name": "python",
   "nbconvert_exporter": "python",
   "pygments_lexer": "ipython3",
   "version": "3.9.7"
  }
 },
 "nbformat": 4,
 "nbformat_minor": 5
}
