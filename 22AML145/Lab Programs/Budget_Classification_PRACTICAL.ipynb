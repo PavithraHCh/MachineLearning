{
 "cells": [
  {
   "cell_type": "markdown",
   "id": "1cc419ee-a12c-4b90-b98e-c58fa1c98e00",
   "metadata": {},
   "source": [
    "# BUDGET CLASSIFICATION USING DECISION TREES\n",
    "\n",
    "_**Classifying budget level of movies for production companies based on parameters such as country, director, genre, expected revienue, main star, etc.**_\n",
    "Data card is available at https://www.kaggle.com/datasets/danielgrijalvas/movies."
   ]
  },
  {
   "cell_type": "code",
   "execution_count": null,
   "id": "ffee58fb-6e1f-4e47-8e0c-7d06804cf229",
   "metadata": {
    "tags": []
   },
   "outputs": [],
   "source": [
    "# Imports required packages\n",
    "\n",
    "import numpy as np\n",
    "import pandas as pd\n",
    "\n",
    "import re\n",
    "\n",
    "from sklearn.model_selection import train_test_split\n",
    "\n",
    "from sklearn.compose import ColumnTransformer\n",
    "from sklearn.pipeline import Pipeline\n",
    "\n",
    "from sklearn.preprocessing import OneHotEncoder\n",
    "\n",
    "from sklearn.ensemble import RandomForestClassifier\n",
    "\n",
    "import matplotlib.pyplot as plt\n",
    "from sklearn.metrics import ConfusionMatrixDisplay, accuracy_score"
   ]
  },
  {
   "cell_type": "markdown",
   "id": "88abfd4c-a70b-491c-a880-659292471778",
   "metadata": {},
   "source": [
    "## Data Collection"
   ]
  },
  {
   "cell_type": "code",
   "execution_count": null,
   "id": "15525bec-13e8-4294-a851-573713a257f7",
   "metadata": {
    "tags": []
   },
   "outputs": [],
   "source": [
    "# Loads dataset from csv file\n",
    "movies = pd.read_csv(\"movies.csv\")"
   ]
  },
  {
   "cell_type": "code",
   "execution_count": null,
   "id": "f8f2612b-f5d0-45ab-8854-81ace1921e5c",
   "metadata": {
    "tags": []
   },
   "outputs": [],
   "source": [
    "# Displays few of the data samples\n",
    "display(movies.head())"
   ]
  },
  {
   "cell_type": "markdown",
   "id": "1a2bc929-4dae-4767-8c0d-cd5c9d68ad0e",
   "metadata": {},
   "source": [
    "## Exploratory Data Analysis (EDA)"
   ]
  },
  {
   "cell_type": "code",
   "execution_count": null,
   "id": "947a89dc-0afe-433b-87bb-c0347a3effa3",
   "metadata": {
    "tags": []
   },
   "outputs": [],
   "source": [
    "# Checks for basic information about the dataset\n",
    "\n",
    "movies.info()"
   ]
  },
  {
   "cell_type": "markdown",
   "id": "160e5bdf-af0d-46d1-9cbe-ad1e46d49e94",
   "metadata": {},
   "source": [
    "**Observations from the basic information are**\n",
    "\n",
    "- Features are of both numeric and non-numeric\n",
    "- Most features have missing values\n",
    "- Important attribute 'budget' has quite a few missing values"
   ]
  },
  {
   "cell_type": "code",
   "execution_count": null,
   "id": "1e67160e-f558-4e1b-b1fc-dcc194a8bb57",
   "metadata": {
    "tags": []
   },
   "outputs": [],
   "source": [
    "# Checks for the descriptive statistics of the dataset\n",
    "movies.describe()"
   ]
  },
  {
   "cell_type": "code",
   "execution_count": null,
   "id": "18002176-6194-418f-9f4a-5c07e3b303f0",
   "metadata": {
    "tags": []
   },
   "outputs": [],
   "source": [
    "# Checks for attributes having missing values in the dataset\n",
    "movies.isnull().sum()"
   ]
  },
  {
   "cell_type": "markdown",
   "id": "3a4ac059-a321-45b0-ad64-1815913c4228",
   "metadata": {},
   "source": [
    "As **_budget_** will be considered as dependant attribute in this experiment, instances having missing values for this attribute need to be removed."
   ]
  },
  {
   "cell_type": "markdown",
   "id": "6e75546d-fc79-47b6-90f6-9132af28df6f",
   "metadata": {},
   "source": [
    "**Checks for the values in each categorical attribute**"
   ]
  },
  {
   "cell_type": "code",
   "execution_count": null,
   "id": "5ae43a4d-03d3-438d-b554-1c3971078752",
   "metadata": {
    "tags": []
   },
   "outputs": [],
   "source": [
    "movies.rating.value_counts()"
   ]
  },
  {
   "cell_type": "code",
   "execution_count": null,
   "id": "c8245063-fd32-4404-bd51-52ded3a2eb1f",
   "metadata": {
    "tags": []
   },
   "outputs": [],
   "source": [
    "movies.genre.value_counts()"
   ]
  },
  {
   "cell_type": "code",
   "execution_count": null,
   "id": "4f54b4c6-b9c8-4b49-ad80-cf283642f6b1",
   "metadata": {
    "tags": []
   },
   "outputs": [],
   "source": [
    "movies.released.value_counts()"
   ]
  },
  {
   "cell_type": "code",
   "execution_count": null,
   "id": "4aac9a3f-6c93-4564-a57e-971bda7fb5b7",
   "metadata": {
    "tags": []
   },
   "outputs": [],
   "source": [
    "movies.director.value_counts()"
   ]
  },
  {
   "cell_type": "code",
   "execution_count": null,
   "id": "d8cf1db9-efa9-4576-9270-0cec7b0ed4ea",
   "metadata": {
    "tags": []
   },
   "outputs": [],
   "source": [
    "movies.writer.value_counts()"
   ]
  },
  {
   "cell_type": "code",
   "execution_count": null,
   "id": "4b4d972f-8760-4e4b-bdcc-42b13a1cecb4",
   "metadata": {
    "tags": []
   },
   "outputs": [],
   "source": [
    "movies.star.value_counts()"
   ]
  },
  {
   "cell_type": "code",
   "execution_count": null,
   "id": "7d8fe51d-f195-4846-a20a-c1540e5f1cdc",
   "metadata": {
    "tags": []
   },
   "outputs": [],
   "source": [
    "movies.country.value_counts()"
   ]
  },
  {
   "cell_type": "code",
   "execution_count": null,
   "id": "08993d01-726a-4715-b134-b3dd28e1c5a5",
   "metadata": {
    "tags": []
   },
   "outputs": [],
   "source": [
    "movies.company.value_counts()"
   ]
  },
  {
   "cell_type": "markdown",
   "id": "955640d1-76f3-4bee-93a0-652f74945da9",
   "metadata": {},
   "source": [
    "## Data Preparation"
   ]
  },
  {
   "cell_type": "markdown",
   "id": "933fe3c6-4594-49ca-af66-b1d5f26f3f9a",
   "metadata": {},
   "source": [
    "### Checking for Duplicate Instances"
   ]
  },
  {
   "cell_type": "code",
   "execution_count": null,
   "id": "81f6fc9d-0f33-4b3b-9e87-5d430033f327",
   "metadata": {
    "tags": []
   },
   "outputs": [],
   "source": [
    "# Drops duplicate instances, if any\n",
    "movies.drop_duplicates(keep='first', inplace=True)"
   ]
  },
  {
   "cell_type": "markdown",
   "id": "0e50fe18-4b2e-43cb-8dce-e3a309afa537",
   "metadata": {},
   "source": [
    "### Removing Non-required Attributes"
   ]
  },
  {
   "cell_type": "code",
   "execution_count": null,
   "id": "1d39905a-a7ee-409b-8ec2-2bf0c6d5f2f0",
   "metadata": {
    "tags": []
   },
   "outputs": [],
   "source": [
    "# Drops attribute 'name' from the dataset as it is an 'identifier'-like\n",
    "\n",
    "movies.drop([\"name\"], axis=1, inplace=True)"
   ]
  },
  {
   "cell_type": "markdown",
   "id": "5f06e8bc-09b3-43fb-9ea4-def814c92e8e",
   "metadata": {},
   "source": [
    "### Removing Instances with Missing Values"
   ]
  },
  {
   "cell_type": "code",
   "execution_count": null,
   "id": "f4ecc614-1a6b-4830-bfc1-f2db3d024d46",
   "metadata": {
    "tags": []
   },
   "outputs": [],
   "source": [
    "# Deletes the instances for missing 'budget' values. Other instances with missing values also\n",
    "# get deleted considering these instances are just tiny portion of the dataset\n",
    "# 'ranting': 1.0%, 'released': 0.02%, 'score': 0.03%, 'votes': 0.03%, 'writer': 0.03%,\n",
    "# 'star': 0.01%, 'country': 0.03%, 'gross': 2%, 'company': 0.2%, 'runtime': 0.05%\n",
    "\n",
    "movies.dropna(inplace=True)"
   ]
  },
  {
   "cell_type": "code",
   "execution_count": null,
   "id": "9fc305db-2afb-4e67-b12f-57f33c69e3e9",
   "metadata": {
    "tags": []
   },
   "outputs": [],
   "source": [
    "# Checks the shape of the dataset after removing instances with missing values\n",
    "\n",
    "movies.shape"
   ]
  },
  {
   "cell_type": "markdown",
   "id": "2b897f0f-eaa3-4a8a-832c-87a2f0883281",
   "metadata": {},
   "source": [
    "### Preparing Target"
   ]
  },
  {
   "cell_type": "code",
   "execution_count": null,
   "id": "d05deb69-ae38-41e3-8c73-f2f042dd3adf",
   "metadata": {
    "tags": []
   },
   "outputs": [],
   "source": [
    "# Checks for the budget distribution\n",
    "movies.budget.plot(kind='hist')"
   ]
  },
  {
   "cell_type": "code",
   "execution_count": null,
   "id": "a1a64ddf-a9c3-4956-b8bc-4ecebd0f5fb5",
   "metadata": {
    "tags": []
   },
   "outputs": [],
   "source": [
    "# Segmenting budget values into bins or labels for equal distribution during \n",
    "# train-test dataset seperation and to be used as target in this classification experiment.\n",
    "movies[\"budget_level\"] = pd.cut(movies.budget,\n",
    "       bins=[0., 25000000., 50000000., 75000000., 100000000., 125000000., 150000000., \n",
    "             175000000., 200000000., 225000000., np.inf],\n",
    "       labels=[1, 2, 3, 4, 5, 6, 7, 8, 9, 10])"
   ]
  },
  {
   "cell_type": "code",
   "execution_count": null,
   "id": "c7ab1c65-340c-4121-92d1-cbeaf57e4c1f",
   "metadata": {},
   "outputs": [],
   "source": [
    "# Drops the 'budget' attribute as no more required after binning\n",
    "movies.drop([\"budget\"], axis=1, inplace=True)"
   ]
  },
  {
   "cell_type": "markdown",
   "id": "de4f0af3-5772-49bb-8ecc-864cc9b61a44",
   "metadata": {},
   "source": [
    "### Preparing Test Dataset"
   ]
  },
  {
   "cell_type": "code",
   "execution_count": null,
   "id": "9d30d772-d9b4-4fdc-8064-6ef79f727eba",
   "metadata": {
    "tags": []
   },
   "outputs": [],
   "source": [
    "# Splits dataset into train and test dataset\n",
    "X_train, X_test = train_test_split(\n",
    "    movies, test_size=0.20, random_state=42, stratify=movies[\"budget_level\"])"
   ]
  },
  {
   "cell_type": "code",
   "execution_count": null,
   "id": "a2d55fd9-a2b9-4185-aba3-ab0eca574c20",
   "metadata": {
    "tags": []
   },
   "outputs": [],
   "source": [
    "# Seperates target attribute from train dataset\n",
    "y_train = X_train.budget_level.copy()\n",
    "X_train.drop([\"budget_level\"], axis=1, inplace=True)"
   ]
  },
  {
   "cell_type": "code",
   "execution_count": null,
   "id": "e9b592ac-9edc-4e83-8250-564c145a52f2",
   "metadata": {
    "tags": []
   },
   "outputs": [],
   "source": [
    "# Seperates target attribute from test dataset\n",
    "y_test = X_test.budget_level.copy()\n",
    "X_test.drop([\"budget_level\"], axis=1, inplace=True)"
   ]
  },
  {
   "cell_type": "markdown",
   "id": "fb87f57f-3c08-4ebf-b706-66adeb8a9a12",
   "metadata": {},
   "source": [
    "## Modeling"
   ]
  },
  {
   "cell_type": "code",
   "execution_count": null,
   "id": "248e62e2-1a88-4619-bcc1-e46bc61103a4",
   "metadata": {
    "tags": []
   },
   "outputs": [],
   "source": [
    "# Stores names of the categorical attributes for later use in pipeline\n",
    "categorical_attributes = [\"rating\", \"genre\", \"released\", \"director\", \"writer\", \"star\", \"country\", \"company\"]"
   ]
  },
  {
   "cell_type": "code",
   "execution_count": null,
   "id": "3350cac5-97cd-47ad-82f9-3fe3ec910ae9",
   "metadata": {
    "tags": []
   },
   "outputs": [],
   "source": [
    "# Configures transformation for categorical attributes\n",
    "column_transformer = ColumnTransformer([\n",
    "    # To call categorical pipeline for categorical attribute\n",
    "    (\"categorical_pipeline\", OneHotEncoder(sparse_output=False, handle_unknown='ignore'), categorical_attributes)])"
   ]
  },
  {
   "cell_type": "code",
   "execution_count": null,
   "id": "ceadd9dd-8baf-4745-a35f-2c3552bd85a1",
   "metadata": {
    "tags": []
   },
   "outputs": [],
   "source": [
    "# Configures model pipeline containing attributes transformer and model\n",
    "model_pipeline = Pipeline([\n",
    "    (\"data_transformation\", column_transformer),\n",
    "    (\"modeling\", RandomForestClassifier(oob_score=True, random_state=42))\n",
    "])"
   ]
  },
  {
   "cell_type": "code",
   "execution_count": null,
   "id": "d8861033-4b3b-49bf-ab1d-aff95539763c",
   "metadata": {
    "tags": []
   },
   "outputs": [],
   "source": [
    "# Fits the model over pipeline\n",
    "model_pipeline.fit(X_train, y_train)"
   ]
  },
  {
   "cell_type": "markdown",
   "id": "2921bf1b-680b-45b1-a999-229341dc4612",
   "metadata": {},
   "source": [
    "### Prediction and Performance Analysis"
   ]
  },
  {
   "cell_type": "markdown",
   "id": "6e66a051-ce65-4a81-b2e2-95fbacf336dc",
   "metadata": {},
   "source": [
    "**Predicting on train dataset and performing performance**"
   ]
  },
  {
   "cell_type": "code",
   "execution_count": null,
   "id": "e293f0eb-4bb3-4dba-a19f-6a4a8c324d00",
   "metadata": {},
   "outputs": [],
   "source": [
    "# Makes predictions on train data\n",
    "y_train_predictions = model_pipeline.predict(X_train)\n",
    "\n",
    "# Shows few of the predictions\n",
    "y_train_predictions"
   ]
  },
  {
   "cell_type": "code",
   "execution_count": null,
   "id": "148c9c35-ba20-4c0b-8177-a8f39b9eb2d2",
   "metadata": {
    "tags": []
   },
   "outputs": [],
   "source": [
    "# Performs accuracy score against train data\n",
    "accuracy_score(y_train, y_train_predictions)"
   ]
  },
  {
   "cell_type": "markdown",
   "id": "7fda5fbb-8197-4571-be15-2796586feaac",
   "metadata": {},
   "source": [
    "**Predicting on test dataset and performing performance**"
   ]
  },
  {
   "cell_type": "code",
   "execution_count": null,
   "id": "22af17f4-9da5-4832-8554-bb4d6fcfb963",
   "metadata": {
    "tags": []
   },
   "outputs": [],
   "source": [
    "# Makes predictions on test data\n",
    "y_test_predictions = model_pipeline.predict(X_test)"
   ]
  },
  {
   "cell_type": "code",
   "execution_count": null,
   "id": "f128c44b-723e-48ee-8a2b-619989f52125",
   "metadata": {
    "tags": []
   },
   "outputs": [],
   "source": [
    "# Shows few of the predictions\n",
    "y_test_predictions"
   ]
  },
  {
   "cell_type": "code",
   "execution_count": null,
   "id": "48a85406-3de3-4dbd-bb10-9b28991eaadc",
   "metadata": {
    "tags": []
   },
   "outputs": [],
   "source": [
    "# Performs accuracy score against test data\n",
    "accuracy_score(y_test, y_test_predictions)"
   ]
  }
 ],
 "metadata": {
  "kernelspec": {
   "display_name": "Python 3 (ipykernel)",
   "language": "python",
   "name": "python3"
  },
  "language_info": {
   "codemirror_mode": {
    "name": "ipython",
    "version": 3
   },
   "file_extension": ".py",
   "mimetype": "text/x-python",
   "name": "python",
   "nbconvert_exporter": "python",
   "pygments_lexer": "ipython3",
   "version": "3.11.7"
  }
 },
 "nbformat": 4,
 "nbformat_minor": 5
}
