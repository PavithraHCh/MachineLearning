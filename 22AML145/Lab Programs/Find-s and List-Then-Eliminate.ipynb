{
 "cells": [
  {
   "cell_type": "markdown",
   "metadata": {},
   "source": [
    "# Find-S Algorithm"
   ]
  },
  {
   "cell_type": "markdown",
   "metadata": {},
   "source": [
    "The Find-S algorithm is used to find the most specific hypothesis of a given dataset. The most specific hypothesis can be defined as a pattern drawn by only considering positive examples of the dataset."
   ]
  },
  {
   "cell_type": "code",
   "execution_count": 1,
   "metadata": {},
   "outputs": [],
   "source": [
    "import pandas as pd\n",
    "import numpy as np\n",
    "import itertools"
   ]
  },
  {
   "cell_type": "code",
   "execution_count": 2,
   "metadata": {},
   "outputs": [],
   "source": [
    "data = pd.read_csv('enjoysport.csv')"
   ]
  },
  {
   "cell_type": "markdown",
   "metadata": {},
   "source": [
    "This dataset consists of seven attributes including the output. "
   ]
  },
  {
   "cell_type": "code",
   "execution_count": 3,
   "metadata": {},
   "outputs": [
    {
     "data": {
      "text/html": [
       "<div>\n",
       "<style scoped>\n",
       "    .dataframe tbody tr th:only-of-type {\n",
       "        vertical-align: middle;\n",
       "    }\n",
       "\n",
       "    .dataframe tbody tr th {\n",
       "        vertical-align: top;\n",
       "    }\n",
       "\n",
       "    .dataframe thead th {\n",
       "        text-align: right;\n",
       "    }\n",
       "</style>\n",
       "<table border=\"1\" class=\"dataframe\">\n",
       "  <thead>\n",
       "    <tr style=\"text-align: right;\">\n",
       "      <th></th>\n",
       "      <th>sky</th>\n",
       "      <th>air temp</th>\n",
       "      <th>humidity</th>\n",
       "      <th>wind</th>\n",
       "      <th>water</th>\n",
       "      <th>forecast</th>\n",
       "      <th>enjoy sport</th>\n",
       "    </tr>\n",
       "  </thead>\n",
       "  <tbody>\n",
       "    <tr>\n",
       "      <th>0</th>\n",
       "      <td>sunny</td>\n",
       "      <td>warm</td>\n",
       "      <td>normal</td>\n",
       "      <td>strong</td>\n",
       "      <td>warm</td>\n",
       "      <td>same</td>\n",
       "      <td>yes</td>\n",
       "    </tr>\n",
       "    <tr>\n",
       "      <th>1</th>\n",
       "      <td>sunny</td>\n",
       "      <td>warm</td>\n",
       "      <td>high</td>\n",
       "      <td>strong</td>\n",
       "      <td>warm</td>\n",
       "      <td>same</td>\n",
       "      <td>yes</td>\n",
       "    </tr>\n",
       "    <tr>\n",
       "      <th>2</th>\n",
       "      <td>rainy</td>\n",
       "      <td>cold</td>\n",
       "      <td>high</td>\n",
       "      <td>strong</td>\n",
       "      <td>warm</td>\n",
       "      <td>change</td>\n",
       "      <td>no</td>\n",
       "    </tr>\n",
       "    <tr>\n",
       "      <th>3</th>\n",
       "      <td>sunny</td>\n",
       "      <td>warm</td>\n",
       "      <td>high</td>\n",
       "      <td>strong</td>\n",
       "      <td>cool</td>\n",
       "      <td>change</td>\n",
       "      <td>yes</td>\n",
       "    </tr>\n",
       "  </tbody>\n",
       "</table>\n",
       "</div>"
      ],
      "text/plain": [
       "     sky air temp humidity    wind water forecast enjoy sport\n",
       "0  sunny     warm   normal  strong  warm     same         yes\n",
       "1  sunny     warm     high  strong  warm     same         yes\n",
       "2  rainy     cold     high  strong  warm   change          no\n",
       "3  sunny     warm     high  strong  cool   change         yes"
      ]
     },
     "metadata": {},
     "output_type": "display_data"
    }
   ],
   "source": [
    "display(data)"
   ]
  },
  {
   "cell_type": "code",
   "execution_count": 4,
   "metadata": {},
   "outputs": [],
   "source": [
    "#making an array of all attributes by excluding the output column.\n",
    "concepts = np.array(data)[:,:-1]"
   ]
  },
  {
   "cell_type": "code",
   "execution_count": 5,
   "metadata": {},
   "outputs": [
    {
     "name": "stdout",
     "output_type": "stream",
     "text": [
      "[['sunny' 'warm' 'normal' 'strong' 'warm' 'same']\n",
      " ['sunny' 'warm' 'high' 'strong' 'warm' 'same']\n",
      " ['rainy' 'cold' 'high' 'strong' 'warm' 'change']\n",
      " ['sunny' 'warm' 'high' 'strong' 'cool' 'change']]\n"
     ]
    }
   ],
   "source": [
    "print(concepts)"
   ]
  },
  {
   "cell_type": "code",
   "execution_count": 6,
   "metadata": {},
   "outputs": [],
   "source": [
    "#getting only the output values of the dataset.\n",
    "target=np.array(data)[:,-1]"
   ]
  },
  {
   "cell_type": "code",
   "execution_count": 7,
   "metadata": {},
   "outputs": [
    {
     "name": "stdout",
     "output_type": "stream",
     "text": [
      "['yes' 'yes' 'no' 'yes']\n"
     ]
    }
   ],
   "source": [
    "print(target)"
   ]
  },
  {
   "cell_type": "markdown",
   "metadata": {},
   "source": [
    "Instantiate the variable specific_hypothesis by the first positive example.\n",
    "\n",
    "Then for every positive example compare it with specific_hypothesis.\n",
    "\n",
    "If an attribute does not match, replace it with ‘?’ else continue the process until the last positive example."
   ]
  },
  {
   "cell_type": "code",
   "execution_count": 8,
   "metadata": {},
   "outputs": [],
   "source": [
    "def train(con, tar):\n",
    "    for i, val in enumerate(tar):\n",
    "        if val == 'yes':\n",
    "            specific_h = con[i].copy()\n",
    "            break\n",
    "            \n",
    "    for i, val in enumerate(con):\n",
    "        if tar[i] == 'yes':\n",
    "            for x in range(len(specific_h)):\n",
    "                if val[x] != specific_h[x]:\n",
    "                    specific_h[x] = '?'\n",
    "                else:\n",
    "                    pass\n",
    "    return specific_h"
   ]
  },
  {
   "cell_type": "markdown",
   "metadata": {},
   "source": [
    "The final value in specific_hypothesis is the most specific hypothesis of the dataset."
   ]
  },
  {
   "cell_type": "code",
   "execution_count": 9,
   "metadata": {},
   "outputs": [
    {
     "name": "stdout",
     "output_type": "stream",
     "text": [
      "['sunny' 'warm' '?' 'strong' '?' '?']\n"
     ]
    }
   ],
   "source": [
    "print(train(concepts, target))"
   ]
  },
  {
   "cell_type": "markdown",
   "metadata": {},
   "source": [
    "This means that if the first four attributes of record are Sunny, Warm, High, Strong respectively then the output of that record is positive(Yes) irrespective of the last two attributes Water and forecast."
   ]
  },
  {
   "cell_type": "markdown",
   "metadata": {},
   "source": [
    "Applying LIST-THEN-ELIMINATION Algorithm to Get Hypotheses Consistent with All Training Examples\n",
    "\n",
    "VersionSpace <-- a list containing every hypothesis in H\n",
    "For each training example, <x, c(x)>\n",
    "remove from VersionSpace any hypothesis h for which h(x) != c(x)\n",
    "Output the list of hypotheses in VersionSpace"
   ]
  },
  {
   "cell_type": "code",
   "execution_count": 10,
   "metadata": {},
   "outputs": [],
   "source": [
    "X = data.copy()"
   ]
  },
  {
   "cell_type": "code",
   "execution_count": 11,
   "metadata": {},
   "outputs": [],
   "source": [
    "target = X[\"enjoy sport\"]"
   ]
  },
  {
   "cell_type": "code",
   "execution_count": 12,
   "metadata": {},
   "outputs": [],
   "source": [
    "X = X.iloc[:,:-1]"
   ]
  },
  {
   "cell_type": "code",
   "execution_count": 13,
   "metadata": {},
   "outputs": [],
   "source": [
    "# Converts target to bool in type\n",
    "\n",
    "target = target.apply(lambda x: True if x == \"yes\" else False)"
   ]
  },
  {
   "cell_type": "code",
   "execution_count": 14,
   "metadata": {},
   "outputs": [],
   "source": [
    "class ListThenEliminate():\n",
    "    \"\"\"\n",
    "    From all possible hypotheses space, finds Version Space containing hypotheses \n",
    "    each of which is consistent with all the training examples\n",
    "    \"\"\"\n",
    "        \n",
    "    def fit(self, X, target):\n",
    "        \"\"\"\n",
    "        Attributes\n",
    "        ----------\n",
    "        X : DataFrame\n",
    "            Training examples with all attributes (except target concept)\n",
    "        \n",
    "        target: Series\n",
    "            Target concept of training examples in X\n",
    "\n",
    "        Returns\n",
    "        --------\n",
    "        list\n",
    "            A Version Space consisting hypotheses each of which is consistent of\n",
    "            all the training examples in X\n",
    "        \"\"\"\n",
    "        \n",
    "        # Creating a space of all hypotheses possible by considering \n",
    "        # uniques values of each attribute of training examples\n",
    "        \n",
    "        self.__unique_attributes = [list(li) for li in list(X.apply(pd.Series.unique))]\n",
    "        for li in self.__unique_attributes:\n",
    "            li.append('?')\n",
    "            li.append('Φ')\n",
    "        self.__H = list(itertools.product(*self.__unique_attributes))\n",
    "        \n",
    "        # Version Space containg hypotheses each consistent of all the training examples\n",
    "        self.VersionSpace = []\n",
    "        \n",
    "        for h in self.__H:\n",
    "            if self.__is_consistent(h, (X, target)) == True:\n",
    "                self.VersionSpace.append(h)\n",
    "    \n",
    "    def __is_consistent(self, h, D):\n",
    "        \"\"\"\n",
    "        Checks if the hypothesis h is consistent with all the training exampes in D\n",
    "        \n",
    "        Attributes\n",
    "        -----------\n",
    "            h: list\n",
    "                Hypothesis to test against D\n",
    "            D: tuple\n",
    "                A tuple of all training example with attributes (X: DataFrame) and their repstive concepts (c: Series)\n",
    "            \n",
    "        Returns\n",
    "        --------\n",
    "            True if hyposthesis is consistent with training examples in D, or False otherwise\n",
    "        \"\"\"\n",
    "        \n",
    "        for idx, x in D[0].iterrows():\n",
    "            self.__prediction = self.__predict(h, x)\n",
    "            if self.__prediction == True and D[1][idx] == False:\n",
    "                return False\n",
    "            if self.__prediction == False and D[1][idx] == True:\n",
    "                return False\n",
    "                    \n",
    "        return True\n",
    "    \n",
    "    def __predict(self, h, x):\n",
    "        \"\"\"\n",
    "        Predicts instance x to be positive or negative against hypothesis h\n",
    "        \n",
    "        Atributes\n",
    "        ----------\n",
    "            h: list\n",
    "                Hypothesis to predict against\n",
    "            x: list\n",
    "                Instance to predict for\n",
    "            \n",
    "        Returns\n",
    "        --------\n",
    "            bool\n",
    "                True if the hypothesis h predicts the instance positive, or False otherwise\n",
    "            \n",
    "        \"\"\"\n",
    "\n",
    "        for i, attr in enumerate(x):\n",
    "            if h[i] == 'Φ':\n",
    "                return False\n",
    "            if h[i] == '?':\n",
    "                continue\n",
    "            if h[i] != x.iloc[i]:\n",
    "                return False\n",
    "            \n",
    "        return True"
   ]
  },
  {
   "cell_type": "code",
   "execution_count": 15,
   "metadata": {},
   "outputs": [],
   "source": [
    "# Initializes algorithm and trains with training examples\n",
    "\n",
    "list_then_eliminate = ListThenEliminate()\n",
    "list_then_eliminate.fit(X, target)"
   ]
  },
  {
   "cell_type": "code",
   "execution_count": 16,
   "metadata": {},
   "outputs": [
    {
     "data": {
      "text/plain": [
       "[('sunny', 'warm', '?', 'strong', '?', '?'),\n",
       " ('sunny', 'warm', '?', '?', '?', '?'),\n",
       " ('sunny', '?', '?', 'strong', '?', '?'),\n",
       " ('sunny', '?', '?', '?', '?', '?'),\n",
       " ('?', 'warm', '?', 'strong', '?', '?'),\n",
       " ('?', 'warm', '?', '?', '?', '?')]"
      ]
     },
     "metadata": {},
     "output_type": "display_data"
    }
   ],
   "source": [
    "# Shows the version space once training is over\n",
    "display(list_then_eliminate.VersionSpace)"
   ]
  },
  {
   "cell_type": "code",
   "execution_count": null,
   "metadata": {},
   "outputs": [],
   "source": []
  }
 ],
 "metadata": {
  "kernelspec": {
   "display_name": "Python 3 (ipykernel)",
   "language": "python",
   "name": "python3"
  },
  "language_info": {
   "codemirror_mode": {
    "name": "ipython",
    "version": 3
   },
   "file_extension": ".py",
   "mimetype": "text/x-python",
   "name": "python",
   "nbconvert_exporter": "python",
   "pygments_lexer": "ipython3",
   "version": "3.11.7"
  }
 },
 "nbformat": 4,
 "nbformat_minor": 4
}
