{
 "cells": [
  {
   "cell_type": "markdown",
   "id": "89a131a9-59e2-450e-bf18-1d0e6d603e53",
   "metadata": {},
   "source": [
    "# WEATHER PREDICTION USING LINEAR REGRESSION\n",
    "\n",
    "_**Predicting apparent temperature using Linear Regression.**_"
   ]
  },
  {
   "cell_type": "code",
   "execution_count": null,
   "id": "dba88ccf-b33d-4c06-8e7c-bb884b7c7452",
   "metadata": {
    "tags": []
   },
   "outputs": [],
   "source": [
    "# Imports required packages\n",
    "\n",
    "import numpy as np\n",
    "import pandas as pd\n",
    "\n",
    "import matplotlib.pyplot as plt\n",
    "import seaborn as sns\n",
    "\n",
    "from sklearn.model_selection import train_test_split\n",
    "\n",
    "from sklearn.preprocessing import OneHotEncoder, StandardScaler\n",
    "\n",
    "from sklearn.impute import SimpleImputer\n",
    "from sklearn.pipeline import Pipeline\n",
    "from sklearn.compose import ColumnTransformer\n",
    "\n",
    "from sklearn.linear_model import LinearRegression\n",
    "\n",
    "from sklearn.metrics import mean_squared_error"
   ]
  },
  {
   "cell_type": "markdown",
   "id": "6c3d7484-11ae-406e-ac19-722852012094",
   "metadata": {},
   "source": [
    "## Data Collection"
   ]
  },
  {
   "cell_type": "code",
   "execution_count": null,
   "id": "095dc183-0d45-4a82-9ccd-a1e4a81c1ecf",
   "metadata": {
    "tags": []
   },
   "outputs": [],
   "source": [
    "# Loads dataset from csv file\n",
    "weather = pd.read_csv(\"weather.csv\")\n",
    "\n",
    "# Displays few of the instances from the dataset\n",
    "display(weather.head())"
   ]
  },
  {
   "cell_type": "markdown",
   "id": "fb217358-e041-4a9b-b56e-1471882d227d",
   "metadata": {},
   "source": [
    "## Exploratory Data Analysis (EDA)"
   ]
  },
  {
   "cell_type": "code",
   "execution_count": null,
   "id": "8fd65edc-5b0d-4645-8ca8-0bb0c6ba8453",
   "metadata": {
    "tags": []
   },
   "outputs": [],
   "source": [
    "# Checks for basic information about the dataset\n",
    "\n",
    "weather.info()"
   ]
  },
  {
   "cell_type": "markdown",
   "id": "856a498d-695d-4da9-9926-b80dd3c7ac3c",
   "metadata": {},
   "source": [
    "**Observations from the basic dataset information are as follows.**\n",
    "\n",
    "- Column \"Precip Type\" has missing values\n",
    "- Out of 12 columns 4 columns are of non-numeric"
   ]
  },
  {
   "cell_type": "code",
   "execution_count": null,
   "id": "5ea1a92e-918f-4ab1-b21f-b6b7f05ac9e0",
   "metadata": {
    "tags": []
   },
   "outputs": [],
   "source": [
    "# Checks for the descriptive statistics of the dataset\n",
    "\n",
    "weather.describe()"
   ]
  },
  {
   "cell_type": "markdown",
   "id": "7d6dc3d0-c3a3-4543-816f-8f39589ee67e",
   "metadata": {},
   "source": [
    "Observations from the basic descriptive statistics are as follows.\n",
    "\n",
    "- Column \"Loud Cover\" is single-valued\n",
    "- Columns have different scales"
   ]
  },
  {
   "cell_type": "markdown",
   "id": "669b3b06-3242-4668-a1c6-5b39473dbe97",
   "metadata": {},
   "source": [
    "**Finds values associated with non-numerical/categorical columns.**"
   ]
  },
  {
   "cell_type": "code",
   "execution_count": null,
   "id": "67a5b5a1-7074-4efc-96f1-686bd8fbbc85",
   "metadata": {
    "tags": []
   },
   "outputs": [],
   "source": [
    "# Finds values associated with \"Summary\"\n",
    "\n",
    "print(weather.Summary.value_counts())\n",
    "\n",
    "print(\"\\nTotal unique value\", weather.Summary.nunique())"
   ]
  },
  {
   "cell_type": "code",
   "execution_count": null,
   "id": "08cc390d-c321-4370-9eb2-a7e0ba358154",
   "metadata": {},
   "outputs": [],
   "source": [
    "# Finds values associated with \"Precip Type\"\n",
    "\n",
    "print(weather[\"Precip Type\"].value_counts())\n",
    "\n",
    "print(\"\\nTotal unique value\", weather[\"Precip Type\"].nunique())"
   ]
  },
  {
   "cell_type": "code",
   "execution_count": null,
   "id": "f206c570-cf27-4d46-9506-19cb2e74ced3",
   "metadata": {
    "tags": []
   },
   "outputs": [],
   "source": [
    "# Finds values associated with \"Daily Summary\"\n",
    "\n",
    "print(weather[\"Daily Summary\"].value_counts())\n",
    "\n",
    "print(\"\\nTotal unique value\", weather[\"Daily Summary\"].nunique())"
   ]
  },
  {
   "cell_type": "code",
   "execution_count": null,
   "id": "6911f4bb-ede7-4e3d-94df-63361c8d6420",
   "metadata": {
    "tags": []
   },
   "outputs": [],
   "source": [
    "# Check for missing values against each categorical column\n",
    "\n",
    "weather[[\"Summary\", \"Precip Type\", \"Daily Summary\"]].isnull().sum()"
   ]
  },
  {
   "cell_type": "code",
   "execution_count": null,
   "id": "a7a0bc11-d180-4ab9-a809-ccee2b6eea33",
   "metadata": {
    "tags": []
   },
   "outputs": [],
   "source": [
    "# Initializes default Seaborn theme\n",
    "sns.set_theme()\n",
    "\n",
    "# Plot histogram of each numeric feature analyze distribution of data\n",
    "weather.hist(bins=50, figsize=(15,8))\n",
    "plt.show()"
   ]
  },
  {
   "cell_type": "markdown",
   "id": "1ac766e7-a54b-4c15-a9a7-d4e0233e46f8",
   "metadata": {},
   "source": [
    "From the above distribution, feature \"Humidity\", \"Wind Speed (km/h)\" and \"Pressure (millibars)\" could have outliers.\n",
    "A boxplot of each of these features are plotted below for further analysis."
   ]
  },
  {
   "cell_type": "code",
   "execution_count": null,
   "id": "fe32cdf9-503e-4ce2-bf9c-32f1d82b380a",
   "metadata": {
    "tags": []
   },
   "outputs": [],
   "source": [
    "sns.boxplot(weather.Humidity)\n",
    "plt.show()"
   ]
  },
  {
   "cell_type": "markdown",
   "id": "389820cc-434d-4d9e-a559-7caa77b26439",
   "metadata": {},
   "source": [
    "Only therRows with above-zero humidity are to be considered."
   ]
  },
  {
   "cell_type": "code",
   "execution_count": null,
   "id": "10575ef1-5446-4c83-9182-bd7f1212b94e",
   "metadata": {
    "tags": []
   },
   "outputs": [],
   "source": [
    "sns.boxplot(weather[\"Wind Speed (km/h)\"])\n",
    "plt.show()"
   ]
  },
  {
   "cell_type": "markdown",
   "id": "fa7fc4fe-6be3-4480-9549-86f85e190843",
   "metadata": {
    "tags": []
   },
   "source": [
    "Only the rows with less than 60 km/h wind speed are to be considered."
   ]
  },
  {
   "cell_type": "code",
   "execution_count": null,
   "id": "1bce9d49-4425-45dd-b0cb-bddf5c62ac2e",
   "metadata": {
    "tags": []
   },
   "outputs": [],
   "source": [
    "sns.boxplot(weather[\"Pressure (millibars)\"])\n",
    "plt.show()"
   ]
  },
  {
   "cell_type": "markdown",
   "id": "a2d92362-ffed-4033-9bc8-a2b260366a4b",
   "metadata": {},
   "source": [
    "Only the rows with above-zero pressure (millibars) are to be considered.\n",
    "\n",
    "All the outliers identified above will be dropped in the following section."
   ]
  },
  {
   "cell_type": "markdown",
   "id": "8d06abf5-7014-4b55-97b4-6d22d68d40e8",
   "metadata": {},
   "source": [
    "## Preparing Data"
   ]
  },
  {
   "cell_type": "markdown",
   "id": "f1faa6d6-1c2a-4866-9fca-9457c78b4384",
   "metadata": {},
   "source": [
    "### Checking for Duplicates and Single-valued Columns"
   ]
  },
  {
   "cell_type": "markdown",
   "id": "b9fadad1-26ac-4ffc-941d-615cd781fca0",
   "metadata": {},
   "source": [
    "**Removes duplicate observations, if any**"
   ]
  },
  {
   "cell_type": "code",
   "execution_count": null,
   "id": "f904d1b2-65e8-43d8-ac15-561e62d68e59",
   "metadata": {
    "tags": []
   },
   "outputs": [],
   "source": [
    "# Drops duplicate instances, if any\n",
    "weather.drop_duplicates(keep='first', inplace=True)"
   ]
  },
  {
   "cell_type": "markdown",
   "id": "531894d6-7960-41a3-84d8-c0fdeb0981aa",
   "metadata": {},
   "source": [
    "**Removes single-valued columns**"
   ]
  },
  {
   "cell_type": "code",
   "execution_count": null,
   "id": "931f7865-bf8b-44fa-90d6-f1b6a7862d63",
   "metadata": {
    "tags": []
   },
   "outputs": [],
   "source": [
    "weather.drop(columns=[\"Loud Cover\"], axis=1, inplace=True)\n",
    "print(\"\\nData shape after single-value column removal:\", weather.shape)"
   ]
  },
  {
   "cell_type": "markdown",
   "id": "a52ef20c-0c56-47b3-b95e-ec45376f5c32",
   "metadata": {},
   "source": [
    "### Removing Outliers"
   ]
  },
  {
   "cell_type": "code",
   "execution_count": null,
   "id": "4987ffc8-44c8-47f7-902c-6dba5f9b1ca4",
   "metadata": {
    "tags": []
   },
   "outputs": [],
   "source": [
    "# Removes the outliers as found from the ealier analysis\n",
    "\n",
    "weather = weather[weather['Humidity'] != 0.0]\n",
    "weather = weather[weather['Wind Speed (km/h)'] <= 60]\n",
    "weather = weather[weather['Pressure (millibars)'] > 0]\n",
    "weather.shape"
   ]
  },
  {
   "cell_type": "markdown",
   "id": "3486364b-7db3-4597-bd37-3cdfbeef52a2",
   "metadata": {},
   "source": [
    "### Removes Other Columns and Rows"
   ]
  },
  {
   "cell_type": "code",
   "execution_count": null,
   "id": "4c0a6cbc-e2dc-42f7-9c97-9c55a6a37179",
   "metadata": {
    "tags": []
   },
   "outputs": [],
   "source": [
    "# Removes column \"Formatted Date\" as no time-series analysis is being performed.\n",
    "\n",
    "weather.drop(columns=[\"Formatted Date\"], axis=1, inplace=True)\n",
    "weather.shape"
   ]
  },
  {
   "cell_type": "code",
   "execution_count": null,
   "id": "95a2fa95-7f3f-4f71-bf7f-e87500a3e137",
   "metadata": {
    "tags": []
   },
   "outputs": [],
   "source": [
    "# As number of rows with missing \"Precip Type\" is just a tiny portion of \n",
    "# total number of rows, those rows are gets removed\n",
    "\n",
    "weather.dropna(subset=[\"Precip Type\"], axis=0, inplace=True)"
   ]
  },
  {
   "cell_type": "code",
   "execution_count": null,
   "id": "38751bc0-f309-4153-8341-5061ea4f86c8",
   "metadata": {
    "tags": []
   },
   "outputs": [],
   "source": [
    "# Resets index of the DataFrame to have continguous index numbers before further processing\n",
    "weather.reset_index(inplace=True, drop=True)"
   ]
  },
  {
   "cell_type": "code",
   "execution_count": null,
   "id": "a30d9744-ead7-4283-be5f-248f9bfaf667",
   "metadata": {
    "tags": []
   },
   "outputs": [],
   "source": [
    "#Shows the post-preprocessing shape of the data\n",
    "print(weather.shape)"
   ]
  },
  {
   "cell_type": "markdown",
   "id": "dd33fc04-8757-4a2e-8cc8-ace975c665b6",
   "metadata": {},
   "source": [
    "### Seperating Test Set"
   ]
  },
  {
   "cell_type": "markdown",
   "id": "b990a497-d30d-49b6-83f0-8f591c6aa288",
   "metadata": {},
   "source": [
    "**To ensure same distribution both in training and test dataset and to make test dataset representative of the population, stratified sampling over column \"Temperature (C)\" was consisdered.**"
   ]
  },
  {
   "cell_type": "code",
   "execution_count": null,
   "id": "fd797b02-b3c3-46f6-9d8e-a1bda375a6f9",
   "metadata": {
    "tags": []
   },
   "outputs": [],
   "source": [
    "# Creates a column on which stratification will be based on. Essentially, it is a column\n",
    "# having values each would be a temperature bin that an instance will be associated to.\n",
    "\n",
    "weather[\"Temperature_bin\"] = pd.cut(\n",
    "    weather[\"Temperature (C)\"],                       # Values to be binned\n",
    "    bins=[-30., -10., 0.0, 10., 20., 30., np.inf],    # Creates six bins\n",
    "    labels=[1, 2, 3, 4, 5, 6])                        # Associates labels to each bin"
   ]
  },
  {
   "cell_type": "code",
   "execution_count": null,
   "id": "7a8534a9-69d2-4aad-8251-8d994e0b367f",
   "metadata": {
    "tags": []
   },
   "outputs": [],
   "source": [
    "# Splits data into train and test dataset applying stratification\n",
    "\n",
    "train_set, test_set = train_test_split(\n",
    "    weather, test_size = 0.2, stratify = weather[\"Temperature_bin\"], random_state=42)"
   ]
  },
  {
   "cell_type": "code",
   "execution_count": null,
   "id": "f8c37dca-2cda-4a84-bc6e-618c67a9c588",
   "metadata": {
    "tags": []
   },
   "outputs": [],
   "source": [
    "# Removes intermediate attribute 'Temperature_bin' after stratification\n",
    "# as this would no more be required\n",
    "\n",
    "train_set.drop(\"Temperature_bin\", axis=1, inplace=True)\n",
    "test_set.drop(\"Temperature_bin\", axis=1, inplace=True)"
   ]
  },
  {
   "cell_type": "markdown",
   "id": "83f795f1-2498-4c32-8726-ef199a330dc0",
   "metadata": {},
   "source": [
    "### Seperating Target Column"
   ]
  },
  {
   "cell_type": "code",
   "execution_count": null,
   "id": "dfb37cbd-2309-4c0f-adf5-4af18204ae42",
   "metadata": {
    "tags": []
   },
   "outputs": [],
   "source": [
    "# Seperates target from features for both training and test set\n",
    "\n",
    "X_train = train_set.drop(\"Apparent Temperature (C)\", axis = 1)\n",
    "target_train = train_set[\"Apparent Temperature (C)\"].copy()\n",
    "\n",
    "X_test = test_set.drop(\"Apparent Temperature (C)\", axis = 1)\n",
    "target_test = test_set[\"Apparent Temperature (C)\"].copy()"
   ]
  },
  {
   "cell_type": "markdown",
   "id": "9b5823ad-c45f-4946-abd0-aacdfecbf444",
   "metadata": {},
   "source": [
    "### Transforming Data"
   ]
  },
  {
   "cell_type": "markdown",
   "id": "0d688563-776c-4835-8236-087dfe2c3ecd",
   "metadata": {},
   "source": [
    "#### Transforming Training Data"
   ]
  },
  {
   "cell_type": "markdown",
   "id": "4799f797-7c61-48da-8407-ed79df981a98",
   "metadata": {},
   "source": [
    "**Creating transformation pipeline to impute missing and scale numeric data in training dataset**"
   ]
  },
  {
   "cell_type": "code",
   "execution_count": null,
   "id": "b6370414-08ac-4a92-aa27-808f7cfad259",
   "metadata": {
    "tags": []
   },
   "outputs": [],
   "source": [
    "# Sets list of numerical and categorical attributes\n",
    "\n",
    "cat_attribs = [\"Summary\", \"Precip Type\", \"Daily Summary\"]\n",
    "num_attribs = list(X_train.columns)\n",
    "num_attribs.remove(cat_attribs[0])\n",
    "num_attribs.remove(cat_attribs[1])\n",
    "num_attribs.remove(cat_attribs[2])"
   ]
  },
  {
   "cell_type": "code",
   "execution_count": null,
   "id": "1796d060-4c8a-4292-aa60-28642a58b11c",
   "metadata": {
    "tags": []
   },
   "outputs": [],
   "source": [
    "# Setting data transformation pipeline for numerical attributes\n",
    "# Note that featue scaling is NOT required for algorithms to be used here\n",
    "\n",
    "num_pipeline = Pipeline([\n",
    "    (\"imputer\", SimpleImputer(strategy=\"median\")),\n",
    "    #(\"std_scaler\", StandardScaler())    # Not required\n",
    "])"
   ]
  },
  {
   "cell_type": "code",
   "execution_count": null,
   "id": "7f104ac8-dc0c-424d-8f68-b1904731fb97",
   "metadata": {
    "tags": []
   },
   "outputs": [],
   "source": [
    "# Transforms both numerical and categorical attritues by using ColumnTransformer. \n",
    "\n",
    "full_pipeline = ColumnTransformer([\n",
    "    (\"num\", num_pipeline, num_attribs),      # Uses sub-pipeline already defined above\n",
    "    (\"cat\", OneHotEncoder(), cat_attribs)])  # Considering OneHot encoding will just be fine for handful values\n",
    "\n",
    "X_train_transformed = full_pipeline.fit_transform(X_train)"
   ]
  },
  {
   "cell_type": "code",
   "execution_count": null,
   "id": "a2619228-0841-4aea-ae7e-6c223123a65a",
   "metadata": {
    "tags": []
   },
   "outputs": [],
   "source": [
    "# Checks for the shape of the transformed training dataset\n",
    "\n",
    "X_train_transformed.shape"
   ]
  },
  {
   "cell_type": "markdown",
   "id": "2749aa94-dfdf-4f9a-9faf-b620c6356115",
   "metadata": {},
   "source": [
    "#### Transforming Testing Data"
   ]
  },
  {
   "cell_type": "code",
   "execution_count": null,
   "id": "e3f3a88a-3544-4e63-b2e0-1606d0acfee4",
   "metadata": {
    "tags": []
   },
   "outputs": [],
   "source": [
    "X_test_transformed = full_pipeline.transform(X_test)"
   ]
  },
  {
   "cell_type": "code",
   "execution_count": null,
   "id": "65e22a9e-c1c3-4894-8c67-1cc74144034b",
   "metadata": {
    "tags": []
   },
   "outputs": [],
   "source": [
    "# Checks for the shape of the transformed testing dataset\n",
    "\n",
    "X_test_transformed.shape"
   ]
  },
  {
   "cell_type": "code",
   "execution_count": null,
   "id": "ada6911e-bfda-47d7-92e8-faf497cdb156",
   "metadata": {},
   "outputs": [],
   "source": []
  },
  {
   "cell_type": "markdown",
   "id": "409c62f5-bbf7-4f39-93fc-c59b553c2dfa",
   "metadata": {},
   "source": [
    "## Modeling"
   ]
  },
  {
   "cell_type": "markdown",
   "id": "3cdbfdd6-b71b-4de8-bfeb-8fe9cd6fa7b2",
   "metadata": {},
   "source": [
    "### Modeling Using Closed Form Approach"
   ]
  },
  {
   "cell_type": "markdown",
   "id": "c5a80388-3d69-4cc7-aa63-540858be9164",
   "metadata": {},
   "source": [
    "**Using Singular Value Decomposition (SVD) Approach over LinearRegression (LR) Algorithm**"
   ]
  },
  {
   "cell_type": "code",
   "execution_count": null,
   "id": "c6c50729-a8c9-459b-ae58-f143e591acda",
   "metadata": {
    "tags": []
   },
   "outputs": [],
   "source": [
    "# Fits a LinearRegression model\n",
    "\n",
    "lr_model = LinearRegression()\n",
    "lr_model.fit(X_train_transformed, target_train)"
   ]
  },
  {
   "cell_type": "code",
   "execution_count": null,
   "id": "cb6011f7-a611-492a-89ba-f5b9796871ae",
   "metadata": {
    "tags": []
   },
   "outputs": [],
   "source": [
    "# Performs predictions on both training and testing dataset\n",
    "\n",
    "predictions_train_lr = lr_model.predict(X_train_transformed)\n",
    "predictions_test_lr = lr_model.predict(X_test_transformed)"
   ]
  },
  {
   "cell_type": "code",
   "execution_count": null,
   "id": "d1d67138-01a2-485d-ae63-63354dac2a14",
   "metadata": {},
   "outputs": [],
   "source": [
    "rmse_train_lr = np.sqrt(mean_squared_error(target_train, predictions_train_lr))\n",
    "rmse_test_lr = np.sqrt(mean_squared_error(target_test, predictions_test_lr))"
   ]
  },
  {
   "cell_type": "markdown",
   "id": "97e528e1-6ab4-4884-aef2-9c067a06be7b",
   "metadata": {},
   "source": [
    "### Analyzing Model Performance\n",
    "_Note that cross validation was not used for not being useful for closed form modeling approaches._"
   ]
  },
  {
   "cell_type": "code",
   "execution_count": null,
   "id": "f707d9d0-489f-43a1-b797-7b956c32721d",
   "metadata": {
    "tags": []
   },
   "outputs": [],
   "source": [
    "# Shows Linear Regression model performance on both datasets\n",
    "\n",
    "print(\"Linear Regression Model Peroformance (in RMSE):\\n\")\n",
    "print(\"Train Error:\", rmse_train_lr)\n",
    "print(\"Test Error:\", rmse_test_lr)"
   ]
  },
  {
   "cell_type": "code",
   "execution_count": null,
   "id": "724737b3-47dc-4cd2-8b16-37a8ce4408e6",
   "metadata": {
    "tags": []
   },
   "outputs": [],
   "source": [
    "# Shows models' prediction and prediction error side-by-side \n",
    "# on few of the instances from the test dataset\n",
    "\n",
    "pd.DataFrame({\n",
    "    \"Actual Target\": target_test, \n",
    "    \"LR Prediction\": predictions_test_lr, \n",
    "    \"LR Prediction Error:\": np.abs(target_test - predictions_test_lr)\n",
    "}).head(10)"
   ]
  },
  {
   "cell_type": "code",
   "execution_count": null,
   "id": "3b7f1745-bf0c-43cb-95d7-91f08ec14908",
   "metadata": {},
   "outputs": [],
   "source": []
  },
  {
   "cell_type": "code",
   "execution_count": null,
   "id": "d1ceaac7-9b6b-4765-9f27-252fd1f414d9",
   "metadata": {},
   "outputs": [],
   "source": []
  }
 ],
 "metadata": {
  "kernelspec": {
   "display_name": "Python 3 (ipykernel)",
   "language": "python",
   "name": "python3"
  },
  "language_info": {
   "codemirror_mode": {
    "name": "ipython",
    "version": 3
   },
   "file_extension": ".py",
   "mimetype": "text/x-python",
   "name": "python",
   "nbconvert_exporter": "python",
   "pygments_lexer": "ipython3",
   "version": "3.11.7"
  }
 },
 "nbformat": 4,
 "nbformat_minor": 5
}
